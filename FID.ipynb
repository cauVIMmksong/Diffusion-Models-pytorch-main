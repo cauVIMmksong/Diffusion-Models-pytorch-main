{
 "cells": [
  {
   "cell_type": "code",
   "execution_count": null,
   "metadata": {},
   "outputs": [],
   "source": [
    "\n",
    "import os\n",
    "import random\n",
    "import torch\n",
    "import torch.nn as nn\n",
    "import torch.utils.data\n",
    "import torchvision.datasets as dset\n",
    "import torchvision.transforms as T\n",
    "import torchvision.utils as vutils\n",
    "import numpy as np\n",
    "import matplotlib.pyplot as plt\n",
    "\n",
    "from torchvision.models import inception_v3\n",
    "from scipy.linalg import sqrtm\n",
    "from tqdm import tqdm"
   ]
  },
  {
   "cell_type": "code",
   "execution_count": null,
   "metadata": {},
   "outputs": [],
   "source": [
    "ngpu = 1\n",
    "batch_size = 128\n",
    "\n",
    "device = torch.device(\"cuda:0\" if (torch.cuda.is_available() and ngpu > 0) else \"cpu\")\n",
    "print(device,\"is available!\")\n",
    "\n",
    "# Inception 모델 로딩\n",
    "inception_model = inception_v3(pretrained=True, transform_input=False).to(device)\n",
    "inception_model.eval()\n",
    "\n",
    "def get_features(data_loader, model):\n",
    "    all_features = []\n",
    "    for images, _ in tqdm(data_loader, desc=\"Extracting Features\"):  # tqdm 추가\n",
    "        with torch.no_grad():\n",
    "            features = model(images.to(device))\n",
    "        all_features.append(features.cpu().numpy())\n",
    "    return np.concatenate(all_features, axis=0)\n",
    "\n",
    "# FID 계산\n",
    "def calculate_fid(act1, act2):\n",
    "    mu1, sigma1 = act1.mean(axis=0), np.cov(act1, rowvar=False)\n",
    "    mu2, sigma2 = act2.mean(axis=0), np.cov(act2, rowvar=False)\n",
    "    ssdiff = np.sum((mu1 - mu2)**2.0)\n",
    "    covmean = sqrtm(sigma1.dot(sigma2))\n",
    "    if np.iscomplexobj(covmean):\n",
    "        covmean = covmean.real\n",
    "    fid = ssdiff + np.trace(sigma1 + sigma2 - 2.0 * covmean)\n",
    "    return fid"
   ]
  },
  {
   "cell_type": "code",
   "execution_count": null,
   "metadata": {},
   "outputs": [],
   "source": [
    "# 1. 실제 데이터셋에 대한 Dataloader 생성\n",
    "transform = T.Compose([\n",
    "    T.Resize((299,299)),\n",
    "    T.ToTensor(),\n",
    "    T.Normalize((0.5, 0.5, 0.5), (0.5, 0.5, 0.5))\n",
    "])\n",
    "\n",
    "real_dataset = dset.ImageFolder(root='datasets/FFHQ2', transform=transform)\n",
    "real_dataloader = torch.utils.data.DataLoader(real_dataset, batch_size=batch_size, shuffle=True)\n",
    "\n",
    "# 2. 가짜 데이터셋에 대한 Dataloader 생성\n",
    "fake_dataset = dset.ImageFolder(root = 'results/FFHQ_fake(3)_img', transform=transform)\n",
    "fake_dataloader = torch.utils.data.DataLoader(fake_dataset, batch_size=batch_size, shuffle=True)\n",
    "\n",
    "# 몇 개의 샘플 이미지를 시각화합니다.\n",
    "sample_batch = next(iter(real_dataloader))\n",
    "plt.figure(figsize=(8,8))\n",
    "plt.axis(\"off\")\n",
    "plt.title(\"Sample Images\")\n",
    "plt.imshow(np.transpose(vutils.make_grid(sample_batch[0][:64], padding=2, normalize=True).cpu(),(1,2,0)))\n",
    "plt.show()"
   ]
  },
  {
   "cell_type": "code",
   "execution_count": null,
   "metadata": {},
   "outputs": [],
   "source": [
    "# 실제 데이터와 생성된 데이터의 특징 벡터를 추출\n",
    "print(\"Extracting features from real data...\")\n",
    "real_features = get_features(real_dataloader, inception_model)\n",
    "print(\"Extracting features from fake data...\")\n",
    "fake_features = get_features(fake_dataloader, inception_model)\n",
    "\n",
    "# FID 계산\n",
    "print(\"Calculating FID...\")\n",
    "fid_value = calculate_fid(real_features, fake_features)\n",
    "print(\"FID:\", fid_value)"
   ]
  }
 ],
 "metadata": {
  "language_info": {
   "name": "python"
  },
  "orig_nbformat": 4
 },
 "nbformat": 4,
 "nbformat_minor": 2
}
